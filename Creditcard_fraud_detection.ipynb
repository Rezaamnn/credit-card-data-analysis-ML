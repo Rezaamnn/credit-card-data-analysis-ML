{
 "cells": [
  {
   "cell_type": "code",
   "execution_count": 4,
   "metadata": {},
   "outputs": [
    {
     "name": "stdout",
     "output_type": "stream",
     "text": [
      "Requirement already satisfied: scikit-learn in /Users/reihan/anaconda/lib/python3.6/site-packages (0.20.3)\n",
      "Requirement already satisfied: scipy>=0.13.3 in /Users/reihan/anaconda/lib/python3.6/site-packages (from scikit-learn) (1.2.1)\n",
      "Requirement already satisfied: numpy>=1.8.2 in /Users/reihan/anaconda/lib/python3.6/site-packages (from scikit-learn) (1.16.2)\n",
      "Note: you may need to restart the kernel to use updated packages.\n",
      "Requirement already satisfied: matplotlib in /Users/reihan/anaconda/lib/python3.6/site-packages (3.0.3)\n",
      "Requirement already satisfied: numpy>=1.10.0 in /Users/reihan/anaconda/lib/python3.6/site-packages (from matplotlib) (1.16.2)\n",
      "Requirement already satisfied: cycler>=0.10 in /Users/reihan/anaconda/lib/python3.6/site-packages (from matplotlib) (0.10.0)\n",
      "Requirement already satisfied: kiwisolver>=1.0.1 in /Users/reihan/anaconda/lib/python3.6/site-packages (from matplotlib) (1.0.1)\n",
      "Requirement already satisfied: pyparsing!=2.0.4,!=2.1.2,!=2.1.6,>=2.0.1 in /Users/reihan/anaconda/lib/python3.6/site-packages (from matplotlib) (2.3.1)\n",
      "Requirement already satisfied: python-dateutil>=2.1 in /Users/reihan/anaconda/lib/python3.6/site-packages (from matplotlib) (2.8.0)\n",
      "Requirement already satisfied: six in /Users/reihan/anaconda/lib/python3.6/site-packages (from cycler>=0.10->matplotlib) (1.12.0)\n",
      "Requirement already satisfied: setuptools in /Users/reihan/anaconda/lib/python3.6/site-packages (from kiwisolver>=1.0.1->matplotlib) (40.8.0)\n",
      "Note: you may need to restart the kernel to use updated packages.\n",
      "Requirement already satisfied: pandas in /Users/reihan/anaconda/lib/python3.6/site-packages (0.24.2)\n",
      "Requirement already satisfied: numpy>=1.12.0 in /Users/reihan/anaconda/lib/python3.6/site-packages (from pandas) (1.16.2)\n",
      "Requirement already satisfied: python-dateutil>=2.5.0 in /Users/reihan/anaconda/lib/python3.6/site-packages (from pandas) (2.8.0)\n",
      "Requirement already satisfied: pytz>=2011k in /Users/reihan/anaconda/lib/python3.6/site-packages (from pandas) (2018.9)\n",
      "Requirement already satisfied: six>=1.5 in /Users/reihan/anaconda/lib/python3.6/site-packages (from python-dateutil>=2.5.0->pandas) (1.12.0)\n",
      "Note: you may need to restart the kernel to use updated packages.\n"
     ]
    }
   ],
   "source": [
    "%pip install scikit-learn\n",
    "%pip install matplotlib\n",
    "%pip install pandas"
   ]
  },
  {
   "cell_type": "code",
   "execution_count": 6,
   "metadata": {},
   "outputs": [],
   "source": [
    "import pandas, matplotlib, sklearn\n",
    "from sklearn.linear_model import LogisticRegression\n",
    "from sklearn.metrics import classification_report, confusion_matrix, accuracy_score\n",
    "from sklearn.preprocessing import StandardScaler\n",
    "from sklearn.model_selection import train_test_split"
   ]
  },
  {
   "cell_type": "code",
   "execution_count": 2,
   "metadata": {},
   "outputs": [
    {
     "data": {
      "text/html": [
       "<div>\n",
       "<style scoped>\n",
       "    .dataframe tbody tr th:only-of-type {\n",
       "        vertical-align: middle;\n",
       "    }\n",
       "\n",
       "    .dataframe tbody tr th {\n",
       "        vertical-align: top;\n",
       "    }\n",
       "\n",
       "    .dataframe thead th {\n",
       "        text-align: right;\n",
       "    }\n",
       "</style>\n",
       "<table border=\"1\" class=\"dataframe\">\n",
       "  <thead>\n",
       "    <tr style=\"text-align: right;\">\n",
       "      <th></th>\n",
       "      <th>Time</th>\n",
       "      <th>V1</th>\n",
       "      <th>V2</th>\n",
       "      <th>V3</th>\n",
       "      <th>V4</th>\n",
       "      <th>V5</th>\n",
       "      <th>V6</th>\n",
       "      <th>V7</th>\n",
       "      <th>V8</th>\n",
       "      <th>V9</th>\n",
       "      <th>...</th>\n",
       "      <th>V21</th>\n",
       "      <th>V22</th>\n",
       "      <th>V23</th>\n",
       "      <th>V24</th>\n",
       "      <th>V25</th>\n",
       "      <th>V26</th>\n",
       "      <th>V27</th>\n",
       "      <th>V28</th>\n",
       "      <th>Amount</th>\n",
       "      <th>Class</th>\n",
       "    </tr>\n",
       "  </thead>\n",
       "  <tbody>\n",
       "    <tr>\n",
       "      <th>0</th>\n",
       "      <td>0.0</td>\n",
       "      <td>-1.359807</td>\n",
       "      <td>-0.072781</td>\n",
       "      <td>2.536347</td>\n",
       "      <td>1.378155</td>\n",
       "      <td>-0.338321</td>\n",
       "      <td>0.462388</td>\n",
       "      <td>0.239599</td>\n",
       "      <td>0.098698</td>\n",
       "      <td>0.363787</td>\n",
       "      <td>...</td>\n",
       "      <td>-0.018307</td>\n",
       "      <td>0.277838</td>\n",
       "      <td>-0.110474</td>\n",
       "      <td>0.066928</td>\n",
       "      <td>0.128539</td>\n",
       "      <td>-0.189115</td>\n",
       "      <td>0.133558</td>\n",
       "      <td>-0.021053</td>\n",
       "      <td>149.62</td>\n",
       "      <td>0</td>\n",
       "    </tr>\n",
       "    <tr>\n",
       "      <th>1</th>\n",
       "      <td>0.0</td>\n",
       "      <td>1.191857</td>\n",
       "      <td>0.266151</td>\n",
       "      <td>0.166480</td>\n",
       "      <td>0.448154</td>\n",
       "      <td>0.060018</td>\n",
       "      <td>-0.082361</td>\n",
       "      <td>-0.078803</td>\n",
       "      <td>0.085102</td>\n",
       "      <td>-0.255425</td>\n",
       "      <td>...</td>\n",
       "      <td>-0.225775</td>\n",
       "      <td>-0.638672</td>\n",
       "      <td>0.101288</td>\n",
       "      <td>-0.339846</td>\n",
       "      <td>0.167170</td>\n",
       "      <td>0.125895</td>\n",
       "      <td>-0.008983</td>\n",
       "      <td>0.014724</td>\n",
       "      <td>2.69</td>\n",
       "      <td>0</td>\n",
       "    </tr>\n",
       "    <tr>\n",
       "      <th>2</th>\n",
       "      <td>1.0</td>\n",
       "      <td>-1.358354</td>\n",
       "      <td>-1.340163</td>\n",
       "      <td>1.773209</td>\n",
       "      <td>0.379780</td>\n",
       "      <td>-0.503198</td>\n",
       "      <td>1.800499</td>\n",
       "      <td>0.791461</td>\n",
       "      <td>0.247676</td>\n",
       "      <td>-1.514654</td>\n",
       "      <td>...</td>\n",
       "      <td>0.247998</td>\n",
       "      <td>0.771679</td>\n",
       "      <td>0.909412</td>\n",
       "      <td>-0.689281</td>\n",
       "      <td>-0.327642</td>\n",
       "      <td>-0.139097</td>\n",
       "      <td>-0.055353</td>\n",
       "      <td>-0.059752</td>\n",
       "      <td>378.66</td>\n",
       "      <td>0</td>\n",
       "    </tr>\n",
       "    <tr>\n",
       "      <th>3</th>\n",
       "      <td>1.0</td>\n",
       "      <td>-0.966272</td>\n",
       "      <td>-0.185226</td>\n",
       "      <td>1.792993</td>\n",
       "      <td>-0.863291</td>\n",
       "      <td>-0.010309</td>\n",
       "      <td>1.247203</td>\n",
       "      <td>0.237609</td>\n",
       "      <td>0.377436</td>\n",
       "      <td>-1.387024</td>\n",
       "      <td>...</td>\n",
       "      <td>-0.108300</td>\n",
       "      <td>0.005274</td>\n",
       "      <td>-0.190321</td>\n",
       "      <td>-1.175575</td>\n",
       "      <td>0.647376</td>\n",
       "      <td>-0.221929</td>\n",
       "      <td>0.062723</td>\n",
       "      <td>0.061458</td>\n",
       "      <td>123.50</td>\n",
       "      <td>0</td>\n",
       "    </tr>\n",
       "    <tr>\n",
       "      <th>4</th>\n",
       "      <td>2.0</td>\n",
       "      <td>-1.158233</td>\n",
       "      <td>0.877737</td>\n",
       "      <td>1.548718</td>\n",
       "      <td>0.403034</td>\n",
       "      <td>-0.407193</td>\n",
       "      <td>0.095921</td>\n",
       "      <td>0.592941</td>\n",
       "      <td>-0.270533</td>\n",
       "      <td>0.817739</td>\n",
       "      <td>...</td>\n",
       "      <td>-0.009431</td>\n",
       "      <td>0.798278</td>\n",
       "      <td>-0.137458</td>\n",
       "      <td>0.141267</td>\n",
       "      <td>-0.206010</td>\n",
       "      <td>0.502292</td>\n",
       "      <td>0.219422</td>\n",
       "      <td>0.215153</td>\n",
       "      <td>69.99</td>\n",
       "      <td>0</td>\n",
       "    </tr>\n",
       "  </tbody>\n",
       "</table>\n",
       "<p>5 rows × 31 columns</p>\n",
       "</div>"
      ],
      "text/plain": [
       "   Time        V1        V2        V3        V4        V5        V6        V7  \\\n",
       "0   0.0 -1.359807 -0.072781  2.536347  1.378155 -0.338321  0.462388  0.239599   \n",
       "1   0.0  1.191857  0.266151  0.166480  0.448154  0.060018 -0.082361 -0.078803   \n",
       "2   1.0 -1.358354 -1.340163  1.773209  0.379780 -0.503198  1.800499  0.791461   \n",
       "3   1.0 -0.966272 -0.185226  1.792993 -0.863291 -0.010309  1.247203  0.237609   \n",
       "4   2.0 -1.158233  0.877737  1.548718  0.403034 -0.407193  0.095921  0.592941   \n",
       "\n",
       "         V8        V9  ...       V21       V22       V23       V24       V25  \\\n",
       "0  0.098698  0.363787  ... -0.018307  0.277838 -0.110474  0.066928  0.128539   \n",
       "1  0.085102 -0.255425  ... -0.225775 -0.638672  0.101288 -0.339846  0.167170   \n",
       "2  0.247676 -1.514654  ...  0.247998  0.771679  0.909412 -0.689281 -0.327642   \n",
       "3  0.377436 -1.387024  ... -0.108300  0.005274 -0.190321 -1.175575  0.647376   \n",
       "4 -0.270533  0.817739  ... -0.009431  0.798278 -0.137458  0.141267 -0.206010   \n",
       "\n",
       "        V26       V27       V28  Amount  Class  \n",
       "0 -0.189115  0.133558 -0.021053  149.62      0  \n",
       "1  0.125895 -0.008983  0.014724    2.69      0  \n",
       "2 -0.139097 -0.055353 -0.059752  378.66      0  \n",
       "3 -0.221929  0.062723  0.061458  123.50      0  \n",
       "4  0.502292  0.219422  0.215153   69.99      0  \n",
       "\n",
       "[5 rows x 31 columns]"
      ]
     },
     "execution_count": 2,
     "metadata": {},
     "output_type": "execute_result"
    }
   ],
   "source": [
    "df = pandas.read_csv('creditcard.csv', sep=',')\n",
    "df.head()"
   ]
  },
  {
   "cell_type": "code",
   "execution_count": 3,
   "metadata": {},
   "outputs": [
    {
     "name": "stdout",
     "output_type": "stream",
     "text": [
      "<class 'pandas.core.frame.DataFrame'>\n",
      "RangeIndex: 284807 entries, 0 to 284806\n",
      "Data columns (total 31 columns):\n",
      "Time      284807 non-null float64\n",
      "V1        284807 non-null float64\n",
      "V2        284807 non-null float64\n",
      "V3        284807 non-null float64\n",
      "V4        284807 non-null float64\n",
      "V5        284807 non-null float64\n",
      "V6        284807 non-null float64\n",
      "V7        284807 non-null float64\n",
      "V8        284807 non-null float64\n",
      "V9        284807 non-null float64\n",
      "V10       284807 non-null float64\n",
      "V11       284807 non-null float64\n",
      "V12       284807 non-null float64\n",
      "V13       284807 non-null float64\n",
      "V14       284807 non-null float64\n",
      "V15       284807 non-null float64\n",
      "V16       284807 non-null float64\n",
      "V17       284807 non-null float64\n",
      "V18       284807 non-null float64\n",
      "V19       284807 non-null float64\n",
      "V20       284807 non-null float64\n",
      "V21       284807 non-null float64\n",
      "V22       284807 non-null float64\n",
      "V23       284807 non-null float64\n",
      "V24       284807 non-null float64\n",
      "V25       284807 non-null float64\n",
      "V26       284807 non-null float64\n",
      "V27       284807 non-null float64\n",
      "V28       284807 non-null float64\n",
      "Amount    284807 non-null float64\n",
      "Class     284807 non-null int64\n",
      "dtypes: float64(30), int64(1)\n",
      "memory usage: 67.4 MB\n"
     ]
    }
   ],
   "source": [
    "df.info()"
   ]
  },
  {
   "cell_type": "code",
   "execution_count": 11,
   "metadata": {},
   "outputs": [],
   "source": [
    "class_counts = df['Class'].value_counts()"
   ]
  },
  {
   "cell_type": "code",
   "execution_count": 12,
   "metadata": {},
   "outputs": [
    {
     "data": {
      "image/png": "[encoded data removed]",
      "text/plain": [
       "<Figure size 576x576 with 1 Axes>"
      ]
     },
     "metadata": {},
     "output_type": "display_data"
    }
   ],
   "source": [
    "from matplotlib import pyplot as plt\n",
    "\n",
    "\n",
    "plt.figure(figsize=(8, 8))  \n",
    "plt.pie(class_counts, labels=class_counts.index, autopct='%1.1f%%', startangle=140)\n",
    "plt.title('Class Representation with Counts')\n",
    "plt.legend(class_counts.index, title=\"Classes\", loc=\"center left\", bbox_to_anchor=(1, 0, 0.5, 1))\n",
    "\n",
    "# Display the plot\n",
    "plt.show()"
   ]
  },
  {
   "cell_type": "code",
   "execution_count": 13,
   "metadata": {},
   "outputs": [
    {
     "data": {
      "text/plain": [
       "Class\n",
       "0   25,102,462.04\n",
       "1       60,127.97\n",
       "Name: Amount, dtype: float64"
      ]
     },
     "execution_count": 13,
     "metadata": {},
     "output_type": "execute_result"
    }
   ],
   "source": [
    "pandas.options.display.float_format = '{:,.2f}'.format\n",
    "\n",
    "df.groupby('Class')['Amount'].sum()"
   ]
  },
  {
   "cell_type": "code",
   "execution_count": 19,
   "metadata": {},
   "outputs": [
    {
     "name": "stdout",
     "output_type": "stream",
     "text": [
      "1    1000\n",
      "0    1000\n",
      "Name: Class, dtype: int64\n"
     ]
    }
   ],
   "source": [
    "from sklearn.utils import shuffle\n",
    "import pandas as pd\n",
    "from sklearn.utils import resample\n",
    "\n",
    "# First, split the original dataframe into majority and minority classes\n",
    "df_majority = shuffle(df[df['Class'] == 0])[:1000] # shuffle the dataframe and pick 1000 top row\n",
    "df_minority = df[df['Class'] == 1]\n",
    "\n",
    "# Upsample minority class\n",
    "df_minority_upsampled = resample(df_minority, \n",
    "                                 replace=True,     # sample with replacement\n",
    "                                 n_samples=len(df_majority),    # to match majority class\n",
    "                                 random_state=42)  # reproducible results\n",
    "\n",
    "# Combine majority class with upsampled minority class\n",
    "df_upsampled = pd.concat([df_majority, df_minority_upsampled])\n",
    "\n",
    "# Shuffle the dataframe to mix up the row orders\n",
    "df_upsampled = shuffle(df_upsampled).reset_index(drop=True)\n",
    "df_concat  = df_upsampled\n",
    "# Display the new class counts\n",
    "print(df_upsampled['Class'].value_counts())"
   ]
  },
  {
   "cell_type": "code",
   "execution_count": 20,
   "metadata": {},
   "outputs": [],
   "source": [
    "# df_0 = df[df['Class'] == 0].sample(n=492, random_state=42)\n",
    "# df_1= df[df['Class'] == 1].sample(n=492, random_state=42)\n",
    "# df_concat=pandas.concat([df_0,df_1], ignore_index=True).sample(frac=1)\n",
    "# df_concat"
   ]
  },
  {
   "cell_type": "code",
   "execution_count": 21,
   "metadata": {},
   "outputs": [],
   "source": [
    "x_notNormed=df_concat.drop(columns='Class', axis=1)\n",
    "y=df_concat['Class']"
   ]
  },
  {
   "cell_type": "code",
   "execution_count": 22,
   "metadata": {},
   "outputs": [],
   "source": [
    "scaler=StandardScaler()\n",
    "x=scaler.fit_transform(x_notNormed)"
   ]
  },
  {
   "cell_type": "code",
   "execution_count": 24,
   "metadata": {},
   "outputs": [
    {
     "name": "stdout",
     "output_type": "stream",
     "text": [
      "x_train(1800, 30)\n",
      ", x_test(200, 30)\n",
      ", y_train(1800,)\n",
      ", y_test(200,)\n"
     ]
    }
   ],
   "source": [
    "x_train, x_test, y_train, y_test=train_test_split(x,y, test_size=0.10, random_state=123)\n",
    "print(f'x_train{x_train.shape}\\n, x_test{x_test.shape}\\n, y_train{y_train.shape}\\n, y_test{y_test.shape}')"
   ]
  },
  {
   "cell_type": "code",
   "execution_count": 49,
   "metadata": {},
   "outputs": [
    {
     "name": "stdout",
     "output_type": "stream",
     "text": [
      "____________________________________________________________________________________________________\n",
      "TRAIN MODEL CLASSIFICATION REPORT\n",
      "____________________________________________________________________________________________________\n",
      "              precision    recall  f1-score   support\n",
      "\n",
      "    No Fraud       0.92      0.98      0.95       903\n",
      "       Fraud       0.98      0.91      0.94       897\n",
      "\n",
      "   micro avg       0.95      0.95      0.95      1800\n",
      "   macro avg       0.95      0.95      0.95      1800\n",
      "weighted avg       0.95      0.95      0.95      1800\n",
      "\n",
      "____________________________________________________________________________________________________\n",
      "____________________________________________________________________________________________________\n",
      "TEST MODEL CLASSIFICATION REPORT\n",
      "____________________________________________________________________________________________________\n",
      "              precision    recall  f1-score   support\n",
      "\n",
      "    No Fraud       0.91      0.95      0.93        97\n",
      "       Fraud       0.95      0.91      0.93       103\n",
      "\n",
      "   micro avg       0.93      0.93      0.93       200\n",
      "   macro avg       0.93      0.93      0.93       200\n",
      "weighted avg       0.93      0.93      0.93       200\n",
      "\n",
      "____________________________________________________________________________________________________\n"
     ]
    },
    {
     "name": "stderr",
     "output_type": "stream",
     "text": [
      "/Users/reihan/anaconda/lib/python3.6/site-packages/sklearn/linear_model/logistic.py:433: FutureWarning: Default solver will be changed to 'lbfgs' in 0.22. Specify a solver to silence this warning.\n",
      "  FutureWarning)\n"
     ]
    }
   ],
   "source": [
    "def logic_regression(x_train, y_train, x_test):\n",
    "    lr=LogisticRegression()\n",
    "    lr.fit(x_train, y_train)\n",
    "    y_train_pred=lr.predict(x_train)\n",
    "    y_train_cl_report=classification_report(y_train, y_train_pred, target_names = ['No Fraud', 'Fraud']) #,output_dict=True)\n",
    "    print(\"_\"*100)\n",
    "    print(\"TRAIN MODEL CLASSIFICATION REPORT\")\n",
    "    print(\"_\"*100)\n",
    "    print(y_train_cl_report)\n",
    "#     for class_name, class_scores in y_train_cl_report.items():\n",
    "#         if class_name not in ['micro avg', 'macro avg', 'weighted avg']:\n",
    "#             print(f'Class: {class_name}')\n",
    "#             for score_name, score_value in class_scores.items():\n",
    "#                 print(f'  {score_name}: {score_value}')\n",
    "#         elif class_name == 'accuracy':\n",
    "#             print(f'Overall accuracy: {class_scores}')\n",
    "    print(\"_\"*100)\n",
    "    #------------\n",
    "    y_test_pred=lr.predict(x_test)\n",
    "    y_test_cl_report=classification_report(y_test, y_test_pred, target_names = ['No Fraud', 'Fraud']) #,output_dict=True)\n",
    "    print(\"_\"*100)\n",
    "    print(\"TEST MODEL CLASSIFICATION REPORT\")\n",
    "    print(\"_\"*100)\n",
    "    print(y_test_cl_report)\n",
    "#     for class_name, class_scores in y_test_cl_report.items():\n",
    "#         if class_name not in ['micro avg', 'macro avg', 'weighted avg']:\n",
    "#             print(f'Class: {class_name}')\n",
    "#             for score_name, score_value in class_scores.items():\n",
    "#                 print(f'  {score_name}: {score_value}')\n",
    "#         elif class_name == 'accuracy':\n",
    "#             print(f'Overall accuracy: {class_scores}')\n",
    "    print(\"_\"*100)\n",
    "    return y_test_pred, lr\n",
    "\n",
    "y_test_pred, lr= logic_regression(x_train, y_train, x_test)"
   ]
  },
  {
   "cell_type": "markdown",
   "metadata": {},
   "source": [
    "Conclusion\n",
    "Overall, model is performing similarly on both the training and test datasets. The precision, recall, and F1-score are quite close for both classes across the two datasets. This is a good indicator that your model is neither severely overfitting nor underfitting.\n",
    "\n",
    "Slight Difference, but Not Significant: While there's a slight drop in performance from training to test data (which is expected because models tend to perform slightly better on the data they have seen), the differences are not large enough to indicate overfitting. Similarly, the model's good performance on both sets indicates it is not underfitting.\n",
    "\n",
    "In summary,  model seems well-tuned and balanced between not overfitting and not underfitting, demonstrating good generalization capabilities on unseen data. "
   ]
  },
  {
   "cell_type": "code",
   "execution_count": 44,
   "metadata": {},
   "outputs": [
    {
     "name": "stdout",
     "output_type": "stream",
     "text": [
      "   Time    V1    V2   V3    V4    V5    V6    V7    V8    V9  ...   V21   V22  \\\n",
      "0  0.00 -1.36 -0.07 2.54  1.38 -0.34  0.46  0.24  0.10  0.36  ... -0.02  0.28   \n",
      "1  0.00  1.19  0.27 0.17  0.45  0.06 -0.08 -0.08  0.09 -0.26  ... -0.23 -0.64   \n",
      "2  1.00 -1.36 -1.34 1.77  0.38 -0.50  1.80  0.79  0.25 -1.51  ...  0.25  0.77   \n",
      "3  1.00 -0.97 -0.19 1.79 -0.86 -0.01  1.25  0.24  0.38 -1.39  ... -0.11  0.01   \n",
      "4  2.00 -1.16  0.88 1.55  0.40 -0.41  0.10  0.59 -0.27  0.82  ... -0.01  0.80   \n",
      "\n",
      "    V23   V24   V25   V26   V27   V28  Amount  Class  \n",
      "0 -0.11  0.07  0.13 -0.19  0.13 -0.02  149.62      0  \n",
      "1  0.10 -0.34  0.17  0.13 -0.01  0.01    2.69      0  \n",
      "2  0.91 -0.69 -0.33 -0.14 -0.06 -0.06  378.66      0  \n",
      "3 -0.19 -1.18  0.65 -0.22  0.06  0.06  123.50      0  \n",
      "4 -0.14  0.14 -0.21  0.50  0.22  0.22   69.99      0  \n",
      "\n",
      "[5 rows x 31 columns]\n",
      "   Time    V1    V2   V3    V4    V5    V6    V7    V8    V9  ...   V20   V21  \\\n",
      "0  0.00 -1.36 -0.07 2.54  1.38 -0.34  0.46  0.24  0.10  0.36  ...  0.25 -0.02   \n",
      "1  0.00  1.19  0.27 0.17  0.45  0.06 -0.08 -0.08  0.09 -0.26  ... -0.07 -0.23   \n",
      "2  1.00 -1.36 -1.34 1.77  0.38 -0.50  1.80  0.79  0.25 -1.51  ...  0.52  0.25   \n",
      "3  1.00 -0.97 -0.19 1.79 -0.86 -0.01  1.25  0.24  0.38 -1.39  ... -0.21 -0.11   \n",
      "4  2.00 -1.16  0.88 1.55  0.40 -0.41  0.10  0.59 -0.27  0.82  ...  0.41 -0.01   \n",
      "\n",
      "    V22   V23   V24   V25   V26   V27   V28  Amount  \n",
      "0  0.28 -0.11  0.07  0.13 -0.19  0.13 -0.02  149.62  \n",
      "1 -0.64  0.10 -0.34  0.17  0.13 -0.01  0.01    2.69  \n",
      "2  0.77  0.91 -0.69 -0.33 -0.14 -0.06 -0.06  378.66  \n",
      "3  0.01 -0.19 -1.18  0.65 -0.22  0.06  0.06  123.50  \n",
      "4  0.80 -0.14  0.14 -0.21  0.50  0.22  0.22   69.99  \n",
      "\n",
      "[5 rows x 30 columns]\n"
     ]
    },
    {
     "data": {
      "text/plain": [
       "array([[-1.06904497, -0.64776215,  0.02489606,  1.25693233,  1.44299373,\n",
       "        -0.44089305, -0.3397554 , -0.38461879, -0.0413235 ,  0.81799244,\n",
       "        -0.23481898, -0.76449825, -1.55662235, -1.82933492,  0.26044349,\n",
       "         0.65013096,  0.36831052,  0.25284548, -0.37015533,  0.79451781,\n",
       "         0.25043983,  0.02852341,  0.06553072, -0.54915817,  0.95176322,\n",
       "         0.13699697, -0.75126901,  0.64341732, -0.66257015,  0.03715604],\n",
       "       [-1.06904497,  1.97732115,  0.49172258, -1.80512602,  0.13881464,\n",
       "         1.34173505, -1.10347343, -1.43164682, -0.10390499,  0.15056695,\n",
       "        -1.04055191,  1.67286069,  1.47635329,  0.09813019,  0.72166124,\n",
       "        -0.15837998,  1.20531398, -0.28560428, -0.62487273,  0.30402641,\n",
       "        -0.89867127, -1.29944057, -1.6525099 , -0.03222626,  0.12137184,\n",
       "         0.25043866,  0.40470986, -0.8058021 , -0.2872492 , -1.11752614],\n",
       "       [ 0.26726124, -0.64626726, -1.72072747,  0.27089742,  0.04293027,\n",
       "        -1.17874561,  1.53622919,  1.43011932,  0.6443994 , -1.20670895,\n",
       "         0.13042661,  0.55996951, -0.32420371,  0.39522417,  0.66056776,\n",
       "         1.50240605, -1.79934943,  1.7575448 , -0.54936311, -1.58386269,\n",
       "         1.23129559,  1.73308775,  0.99126066,  1.9404853 , -0.59196528,\n",
       "        -1.20259824, -0.56771871, -1.27724286, -1.06853977,  1.83711797],\n",
       "       [ 0.26726124, -0.24290353, -0.1299794 ,  0.29645993, -1.70027944,\n",
       "         1.02701259,  0.7605277 , -0.39116141,  1.24166565, -1.06914108,\n",
       "        -0.69039206, -0.39837262, -0.12210962,  0.12242633,  0.32449054,\n",
       "        -1.38867172, -0.15956305, -1.2352819 ,  1.99247163, -0.66561422,\n",
       "        -1.3968825 , -0.54750801, -0.4454034 , -0.74407167, -1.58468879,\n",
       "         1.66058265, -0.8716854 , -0.07676761,  0.20300815, -0.1681138 ],\n",
       "       [ 1.60356745, -0.44038821,  1.33408823, -0.01916366,  0.0755408 ,\n",
       "        -0.74910898, -0.85352806,  0.7773077 , -1.74083656,  1.30729064,\n",
       "         1.83533634, -1.06995932,  0.5265824 ,  1.21355423, -1.96716303,\n",
       "        -0.60548529,  0.38528798, -0.4895041 , -0.44808046,  1.1509327 ,\n",
       "         0.81381834,  0.08533742,  1.04112192, -0.61502921,  1.10351901,\n",
       "        -0.84542004,  1.78596328,  1.51639525,  1.81535097, -0.58863407]])"
      ]
     },
     "execution_count": 44,
     "metadata": {},
     "output_type": "execute_result"
    }
   ],
   "source": [
    "# i \n",
    "one_row_no_frad = df[df['Class'] == 0][:5]\n",
    "print(one_row_no_frad)\n",
    "one_row_no_frad_x = one_row_no_frad.drop(columns='Class', axis=1)\n",
    "print(one_row_no_frad_x)\n",
    "\n",
    "x_processed =scaler.fit_transform(one_row_no_frad_x)\n",
    "x_processed"
   ]
  },
  {
   "cell_type": "code",
   "execution_count": 50,
   "metadata": {},
   "outputs": [
    {
     "data": {
      "text/plain": [
       "array([1, 1, 0, 0, 1])"
      ]
     },
     "execution_count": 50,
     "metadata": {},
     "output_type": "execute_result"
    }
   ],
   "source": [
    "predictions = lr.predict(x_processed)\n",
    "predictions"
   ]
  },
  {
   "cell_type": "code",
   "execution_count": 53,
   "metadata": {},
   "outputs": [
    {
     "data": {
      "text/plain": [
       "array([[-0.62861773,  0.52176338,  0.17507393, -0.83212154,  2.24088828,\n",
       "         0.72260814, -0.54987257,  0.42703047, -1.14275207, -0.32829568,\n",
       "        -1.45438595,  0.34274566, -0.90173425, -0.34865305, -3.39773534,\n",
       "        -0.02185204,  0.49647394, -0.58182832,  0.27901146,  0.57100662,\n",
       "        -0.59629391,  0.17705494,  0.64214858,  0.40301243, -0.10527266,\n",
       "         0.0985403 , -0.11352188,  0.0482739 ,  0.34929194,  0.68867431]])"
      ]
     },
     "execution_count": 53,
     "metadata": {},
     "output_type": "execute_result"
    }
   ],
   "source": [
    "coefficients = lr.coef_\n",
    "coefficients\n"
   ]
  },
  {
   "cell_type": "code",
   "execution_count": 59,
   "metadata": {},
   "outputs": [],
   "source": [
    "feature_names = df_concat.drop(columns='Class', axis=1).columns  # This assumes x_train is a DataFrame\n",
    "coefficients_df = pandas.DataFrame(coefficients, columns=feature_names).T\n",
    "coefficients_df\n",
    "coefficients_df.columns = ['Coefficient']\n"
   ]
  },
  {
   "cell_type": "code",
   "execution_count": 64,
   "metadata": {},
   "outputs": [
    {
     "data": {
      "text/html": [
       "<div>\n",
       "<style scoped>\n",
       "    .dataframe tbody tr th:only-of-type {\n",
       "        vertical-align: middle;\n",
       "    }\n",
       "\n",
       "    .dataframe tbody tr th {\n",
       "        vertical-align: top;\n",
       "    }\n",
       "\n",
       "    .dataframe thead th {\n",
       "        text-align: right;\n",
       "    }\n",
       "</style>\n",
       "<table border=\"1\" class=\"dataframe\">\n",
       "  <thead>\n",
       "    <tr style=\"text-align: right;\">\n",
       "      <th></th>\n",
       "      <th>Coefficient</th>\n",
       "    </tr>\n",
       "  </thead>\n",
       "  <tbody>\n",
       "    <tr>\n",
       "      <th>V4</th>\n",
       "      <td>2.24</td>\n",
       "    </tr>\n",
       "    <tr>\n",
       "      <th>V5</th>\n",
       "      <td>0.72</td>\n",
       "    </tr>\n",
       "    <tr>\n",
       "      <th>Amount</th>\n",
       "      <td>0.69</td>\n",
       "    </tr>\n",
       "    <tr>\n",
       "      <th>V22</th>\n",
       "      <td>0.64</td>\n",
       "    </tr>\n",
       "    <tr>\n",
       "      <th>V19</th>\n",
       "      <td>0.57</td>\n",
       "    </tr>\n",
       "    <tr>\n",
       "      <th>V1</th>\n",
       "      <td>0.52</td>\n",
       "    </tr>\n",
       "    <tr>\n",
       "      <th>V16</th>\n",
       "      <td>0.50</td>\n",
       "    </tr>\n",
       "    <tr>\n",
       "      <th>V7</th>\n",
       "      <td>0.43</td>\n",
       "    </tr>\n",
       "    <tr>\n",
       "      <th>V23</th>\n",
       "      <td>0.40</td>\n",
       "    </tr>\n",
       "    <tr>\n",
       "      <th>V28</th>\n",
       "      <td>0.35</td>\n",
       "    </tr>\n",
       "    <tr>\n",
       "      <th>V11</th>\n",
       "      <td>0.34</td>\n",
       "    </tr>\n",
       "    <tr>\n",
       "      <th>V18</th>\n",
       "      <td>0.28</td>\n",
       "    </tr>\n",
       "    <tr>\n",
       "      <th>V21</th>\n",
       "      <td>0.18</td>\n",
       "    </tr>\n",
       "    <tr>\n",
       "      <th>V2</th>\n",
       "      <td>0.18</td>\n",
       "    </tr>\n",
       "    <tr>\n",
       "      <th>V25</th>\n",
       "      <td>0.10</td>\n",
       "    </tr>\n",
       "    <tr>\n",
       "      <th>V27</th>\n",
       "      <td>0.05</td>\n",
       "    </tr>\n",
       "    <tr>\n",
       "      <th>V15</th>\n",
       "      <td>-0.02</td>\n",
       "    </tr>\n",
       "    <tr>\n",
       "      <th>V24</th>\n",
       "      <td>-0.11</td>\n",
       "    </tr>\n",
       "    <tr>\n",
       "      <th>V26</th>\n",
       "      <td>-0.11</td>\n",
       "    </tr>\n",
       "    <tr>\n",
       "      <th>V9</th>\n",
       "      <td>-0.33</td>\n",
       "    </tr>\n",
       "    <tr>\n",
       "      <th>V13</th>\n",
       "      <td>-0.35</td>\n",
       "    </tr>\n",
       "    <tr>\n",
       "      <th>V6</th>\n",
       "      <td>-0.55</td>\n",
       "    </tr>\n",
       "    <tr>\n",
       "      <th>V17</th>\n",
       "      <td>-0.58</td>\n",
       "    </tr>\n",
       "    <tr>\n",
       "      <th>V20</th>\n",
       "      <td>-0.60</td>\n",
       "    </tr>\n",
       "    <tr>\n",
       "      <th>Time</th>\n",
       "      <td>-0.63</td>\n",
       "    </tr>\n",
       "    <tr>\n",
       "      <th>V3</th>\n",
       "      <td>-0.83</td>\n",
       "    </tr>\n",
       "    <tr>\n",
       "      <th>V12</th>\n",
       "      <td>-0.90</td>\n",
       "    </tr>\n",
       "    <tr>\n",
       "      <th>V8</th>\n",
       "      <td>-1.14</td>\n",
       "    </tr>\n",
       "    <tr>\n",
       "      <th>V10</th>\n",
       "      <td>-1.45</td>\n",
       "    </tr>\n",
       "    <tr>\n",
       "      <th>V14</th>\n",
       "      <td>-3.40</td>\n",
       "    </tr>\n",
       "  </tbody>\n",
       "</table>\n",
       "</div>"
      ],
      "text/plain": [
       "        Coefficient\n",
       "V4             2.24\n",
       "V5             0.72\n",
       "Amount         0.69\n",
       "V22            0.64\n",
       "V19            0.57\n",
       "V1             0.52\n",
       "V16            0.50\n",
       "V7             0.43\n",
       "V23            0.40\n",
       "V28            0.35\n",
       "V11            0.34\n",
       "V18            0.28\n",
       "V21            0.18\n",
       "V2             0.18\n",
       "V25            0.10\n",
       "V27            0.05\n",
       "V15           -0.02\n",
       "V24           -0.11\n",
       "V26           -0.11\n",
       "V9            -0.33\n",
       "V13           -0.35\n",
       "V6            -0.55\n",
       "V17           -0.58\n",
       "V20           -0.60\n",
       "Time          -0.63\n",
       "V3            -0.83\n",
       "V12           -0.90\n",
       "V8            -1.14\n",
       "V10           -1.45\n",
       "V14           -3.40"
      ]
     },
     "execution_count": 64,
     "metadata": {},
     "output_type": "execute_result"
    }
   ],
   "source": [
    "coefficients_df.sort_values(by='Coefficient', ascending=False)\n"
   ]
  },
  {
   "cell_type": "code",
   "execution_count": 62,
   "metadata": {},
   "outputs": [
    {
     "name": "stdout",
     "output_type": "stream",
     "text": [
      "        Coefficient\n",
      "Time          -0.63\n",
      "V1             0.52\n",
      "V2             0.18\n",
      "V3            -0.83\n",
      "V4             2.24\n",
      "V5             0.72\n",
      "V6            -0.55\n",
      "V7             0.43\n",
      "V8            -1.14\n",
      "V9            -0.33\n",
      "V10           -1.45\n",
      "V11            0.34\n",
      "V12           -0.90\n",
      "V13           -0.35\n",
      "V14           -3.40\n",
      "V15           -0.02\n",
      "V16            0.50\n",
      "V17           -0.58\n",
      "V18            0.28\n",
      "V19            0.57\n",
      "V20           -0.60\n",
      "V21            0.18\n",
      "V22            0.64\n",
      "V23            0.40\n",
      "V24           -0.11\n",
      "V25            0.10\n",
      "V26           -0.11\n",
      "V27            0.05\n",
      "V28            0.35\n",
      "Amount         0.69\n"
     ]
    }
   ],
   "source": [
    "print(coefficients_df)"
   ]
  },
  {
   "cell_type": "code",
   "execution_count": null,
   "metadata": {},
   "outputs": [],
   "source": []
  }
 ],
 "metadata": {
  "kernelspec": {
   "display_name": "Python 3",
   "language": "python",
   "name": "python3"
  },
  "language_info": {
   "codemirror_mode": {
    "name": "ipython",
    "version": 3
   },
   "file_extension": ".py",
   "mimetype": "text/x-python",
   "name": "python",
   "nbconvert_exporter": "python",
   "pygments_lexer": "ipython3",
   "version": "3.6.8"
  }
 },
 "nbformat": 4,
 "nbformat_minor": 2
}
